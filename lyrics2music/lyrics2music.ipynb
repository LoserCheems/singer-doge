{
 "cells": [
  {
   "cell_type": "markdown",
   "metadata": {},
   "source": [
    "# Import libraries, modules and packages"
   ]
  },
  {
   "cell_type": "code",
   "execution_count": 2,
   "metadata": {},
   "outputs": [],
   "source": [
    "import torch\n",
    "import torch.nn as nn\n",
    "import torch.optim as optim\n",
    "import random\n",
    "import os\n",
    "\n",
    "from audiocraft.models import MusicGen"
   ]
  },
  {
   "cell_type": "markdown",
   "metadata": {},
   "source": [
    "# Check out CUDA device availability"
   ]
  },
  {
   "cell_type": "code",
   "execution_count": 3,
   "metadata": {},
   "outputs": [
    {
     "data": {
      "text/plain": [
       "device(type='cuda')"
      ]
     },
     "execution_count": 3,
     "metadata": {},
     "output_type": "execute_result"
    }
   ],
   "source": [
    "device = torch.device(\"cuda\" if torch.cuda.is_available() else \"cpu\")\n",
    "\n",
    "device"
   ]
  },
  {
   "cell_type": "markdown",
   "metadata": {},
   "source": [
    "# Student Model Architecture"
   ]
  },
  {
   "cell_type": "code",
   "execution_count": 4,
   "metadata": {},
   "outputs": [],
   "source": [
    "# convert title (lyrics, we called it lyrics just for a better memorization) to music in midi format model\n",
    "class Lyrics2MusicModel(nn.Module):\n",
    "    def __init__(self, text_emb_size, input_size, hidden_size, output_size, num_heads, num_layers):\n",
    "        super(Lyrics2MusicModel, self).__init__()\n",
    "        # music embedding layer\n",
    "        self.music_emb = nn.Embedding(num_embeddings=input_size, embedding_dim=hidden_size)\n",
    "        # text encoder layer\n",
    "        self.text_encoder = nn.TransformerEncoder(\n",
    "            nn.TransformerEncoderLayer(d_model=hidden_size, nhead=num_heads),\n",
    "            num_layers=num_layers\n",
    "        )\n",
    "        # music decoder layer\n",
    "        self.music_decoder = nn.TransformerDecoder(\n",
    "            nn.TransformerDecoderLayer(d_model=hidden_size, nhead=num_heads),\n",
    "            num_layers=num_layers\n",
    "        )\n",
    "        # full connected layer\n",
    "        self.fc = nn.Linear(hidden_size, output_size)\n",
    "    def forward(self, music_input, text_input):\n",
    "        music_emb = self.music_emb(music_input)\n",
    "\n",
    "        text_emb = self.text_encoder(text_input)\n",
    "        # duplicate text embedding shape toward music embedding\n",
    "        text_emb_repeated = text_emb.unsqueeze(0).repeat(music_emb.size(0), 1, 1)\n",
    "\n",
    "        # concat music and text embedding into one embedding (text conditioning)\n",
    "        conditioned_emb = music_emb + text_emb_repeated\n",
    "\n",
    "        # decode the embedding to midi output\n",
    "        midi_format_output = self.music_decoder(conditioned_emb)\n",
    "        return self.fc(midi_format_output)"
   ]
  },
  {
   "cell_type": "markdown",
   "metadata": {},
   "source": [
    "# Teache Model & Synthetic Training Data"
   ]
  },
  {
   "cell_type": "code",
   "execution_count": 5,
   "metadata": {},
   "outputs": [],
   "source": [
    "# theme word combination options\n",
    "themes_word_elements = [\n",
    "    \"Love\", \"Heartbreak\", \"Nature\", \"Exploration\", \"Sci-fi\", \"Futuristic\", \"Motivation\", \"Resilience\", \"Storytelling\", \"Legends\",\n",
    "    \"Philosophy\", \"Romantic\", \"Thoughts\", \"Sadness\", \"Melancholy\", \"Deep\", \"Joy\", \"Celebration\", \"Mystery\", \"Dark\", \"Light\", \"Fantasy\",\n",
    "    \"Ecstasy\", \"Nostalgia\", \"Anger\", \"Serenity\", \"Anxiety\", \"Hope\", \"Envy\", \"Awe\", \"Underwater\", \"Desert\", \"Jungle\", \"Space Station\",\n",
    "    \"Carnival\", \"Graveyard\", \"Medieval\", \"Renaissance\", \"Ancient Egypt\", \"Japanese Samurai\", \"African Safari\", \"Running\", \"Dancing\",\n",
    "    \"Fighting\", \"Reading\", \"Flying\", \"Adventure\", \"Loneliness\", \"Magic\", \"Victory\", \"Reflection\", \"Surprise\", \"Tranquility\", \"Urgency\",\n",
    "    \"Melancholy\", \"Nostalgia\", \"Epic\", \"Battle\", \"Cyberpunk\", \"City\", \"Shine\", \"Sunset\", \"Dark\", \"Forest\", \"Mystery\", \"Space\", \"Odyssey\",\n",
    "    \"Chill\", \"Lo-Fi\", \"Vibes\", \"Jazz\", \"Lounge\", \"Night\", \"Day\", \"Ancient\", \"Ruins\", \"Exploration\", \"Medieval\", \"Folk\", \"Dance\",\n",
    "    \"Dream\", \"Awakening\", \"Journey\", \"Destiny\", \"Time\", \"Eternity\", \"Universe\", \"Cosmic\", \"Stars\", \"Moon\", \"Sun\", \"Rain\", \"Snow\",\n",
    "    \"Wind\", \"Fire\", \"Water\", \"Earth\", \"Sky\", \"Ocean\", \"River\", \"Mountain\", \"Valley\", \"Flower\", \"Tree\", \"Leaf\", \"Bird\", \"Animal\",\n",
    "    \"Whisper\", \"Silence\", \"Echo\", \"Shadow\", \"Light\", \"Color\", \"Sound\", \"Harmony\", \"Chaos\", \"Balance\", \"Peace\", \"War\", \"Life\", \"Death\",\n",
    "    \"Spirit\", \"Soul\", \"Heart\", \"Mind\", \"Body\", \"Strength\", \"Weakness\", \"Courage\", \"Fear\", \"Passion\", \"Desire\", \"Memory\", \"Future\",\n",
    "    \"Present\", \"Past\", \"Childhood\", \"Adulthood\", \"Wisdom\", \"Knowledge\", \"Truth\", \"Lie\", \"Hope\", \"Despair\", \"Faith\", \"Doubt\",\n",
    "    \"Change\", \"Growth\", \"Decay\", \"Creation\", \"Destruction\", \"Freedom\", \"Imprisonment\", \"Justice\", \"Injustice\", \"Love Song\",\n",
    "    \"Ballad\", \"Anthem\", \"Hymn\", \"Lullaby\", \"Elegy\", \"Ode\", \"Symphony\", \"Concerto\", \"Sonata\", \"Etude\", \"Nocturne\", \"Waltz\", \"Tango\",\n",
    "    \"Rumba\", \"Samba\", \"Cha-cha\", \"Swing\", \"Blues\", \"Rock\", \"Pop\", \"Hip-hop\", \"Electronic\", \"Classical\", \"World Music\", \"Ambient\",\n",
    "    \"Minimalist\", \"Experimental\", \"Avant-garde\", \"Indie\", \"Alternative\", \"Underground\", \"Mainstream\", \"Commercial\", \"Independent\",\n",
    "    \"Art\", \"Music\", \"Dance\", \"Theater\", \"Film\", \"Literature\", \"Poetry\", \"Painting\", \"Sculpture\", \"Architecture\", \"Science\",\n",
    "    \"Technology\", \"Engineering\", \"Mathematics\", \"History\", \"Geography\", \"Culture\", \"Society\", \"Politics\", \"Economics\", \"Religion\",\n",
    "    \"Philosophy\", \"Psychology\", \"Sociology\", \"Anthropology\", \"Education\", \"Health\", \"Environment\", \"Sustainability\", \"Innovation\",\n",
    "    \"Progress\", \"Revolution\", \"Evolution\", \"Transformation\", \"Harmony\", \"Dissonance\", \"Contrast\", \"Balance\", \"Symmetry\", \"Asymmetry\",\n",
    "    \"Repetition\", \"Variation\", \"Improvisation\", \"Composition\", \"Performance\", \"Audience\", \"Concert\", \"Festival\", \"Club\", \"Studio\",\n",
    "    \"Stage\", \"Backstage\", \"Microphone\", \"Instrument\", \"Voice\", \"Melody\", \"Harmony\", \"Rhythm\", \"Tempo\", \"Dynamics\", \"Timbre\", \"Texture\",\n",
    "    \"Form\", \"Structure\", \"Style\", \"Genre\", \"Era\", \"Movement\", \"Influence\", \"Inspiration\", \"Creativity\", \"Expression\", \"Communication\",\n",
    "    \"Emotion\", \"Feeling\", \"Mood\", \"Atmosphere\", \"Story\", \"Narrative\", \"Theme\", \"Motif\", \"Symbol\", \"Metaphor\", \"Allegory\", \"Irony\",\n",
    "    \"Humor\", \"Wit\", \"Sarcasm\", \"Paradox\", \"Mystery\", \"Suspense\", \"Drama\", \"Comedy\", \"Tragedy\", \"Romance\", \"Adventure\", \"Fantasy\",\n",
    "    \"Horror\", \"Thriller\", \"Science Fiction\", \"Historical Fiction\", \"Contemporary\", \"Classic\", \"Modern\", \"Postmodern\", \"Abstract\",\n",
    "    \"Surreal\", \"Realism\", \"Naturalism\", \"Romanticism\", \"Symbolism\", \"Expressionism\", \"Dadaism\", \"Surrealism\", \"Modernism\",\n",
    "    \"Postmodernism\", \"Minimalism\", \"Conceptual Art\", \"Performance Art\", \"Installation Art\", \"Video Art\", \"Digital Art\", \"Pop Art\",\n",
    "    \"Op Art\", \"Land Art\", \"Environmental Art\", \"Social Commentary\", \"Political Satire\", \"Personal Reflection\", \"Spiritual Journey\",\n",
    "    \"Inner Peace\", \"Outer Chaos\", \"Human Condition\", \"Universal Themes\", \"Timeless Truths\", \"Ephemeral Beauty\", \"Fleeting Moments\",\n",
    "    \"Precious Memories\", \"Lost Loves\", \"Unspoken Words\", \"Hidden Meanings\", \"Secret Desires\", \"Dreams\", \"Nightmares\", \"Hopes\", \"Fears\",\n",
    "    \"Joys\", \"Sorrows\", \"Triumphs\", \"Failures\", \"Beginnings\", \"Endings\", \"Life\", \"Death\", \"Creation\", \"Destruction\", \"Order\", \"Chaos\",\n",
    "    \"Light\", \"Shadow\", \"Good\", \"Evil\", \"Love\", \"Hate\", \"Peace\", \"War\", \"Freedom\", \"Imprisonment\", \"Justice\", \"Injustice\",\n",
    "    \"Truth\", \"Lies\", \"Faith\", \"Doubt\", \"Certainty\", \"Uncertainty\", \"Change\", \"Growth\", \"Decay\", \"Renewal\", \"Progress\", \"Regression\",\n",
    "    \"Evolution\", \"Transformation\", \"Harmony\", \"Dissonance\", \"Balance\", \"Imbalance\", \"Symmetry\", \"Asymmetry\", \"Repetition\", \"Variation\",\n",
    "    \"Improvisation\", \"Composition\", \"Performance\", \"Audience\", \"Concert\", \"Festival\", \"Club\", \"Studio\", \"Stage\", \"Backstage\",\n",
    "    \"Microphone\", \"Instrument\", \"Voice\", \"Melody\", \"Harmony\", \"Rhythm\", \"Tempo\", \"Dynamics\", \"Timbre\", \"Texture\", \"Form\", \"Structure\",\n",
    "    \"Style\", \"Genre\", \"Era\", \"Movement\", \"Influence\", \"Inspiration\", \"Creativity\", \"Expression\", \"Communication\", \"Emotion\", \"Feeling\",\n",
    "    \"Mood\", \"Atmosphere\", \"Story\", \"Narrative\", \"Theme\", \"Motif\", \"Symbol\", \"Metaphor\", \"Allegory\", \"Irony\", \"Humor\", \"Wit\", \"Sarcasm\",\n",
    "    \"Paradox\", \"Mystery\", \"Suspense\", \"Drama\", \"Comedy\", \"Tragedy\", \"Romance\", \"Adventure\", \"Fantasy\", \"Horror\", \"Thriller\",\n",
    "    \"Science\", \"Fiction\", \"Historical\", \"Contemporary\", \"Classic\", \"Modern\", \"Postmodern\", \"Abstract\", \"Surreal\", \"Realism\",\n",
    "    \"Naturalism\", \"Romanticism\", \"Symbolism\", \"Expressionism\", \"Dadaism\", \"Surrealism\", \"Modernism\", \"Postmodernism\", \"Minimalism\",\n",
    "    \"Conceptual\", \"Art\", \"Performance\", \"Installation\", \"Video\", \"Digital\", \"Pop\", \"Op\", \"Land\", \"Environmental\", \"Social\", \"Commentary\",\n",
    "    \"Political\", \"Satire\", \"Personal\", \"Reflection\", \"Spiritual\", \"Journey\", \"Inner\", \"Outer\", \"Human\", \"Condition\", \"Universal\",\n",
    "    \"Themes\", \"Timeless\", \"Truths\", \"Ephemeral\", \"Beauty\", \"Fleeting\", \"Moments\", \"Precious\", \"Memories\", \"Lost\", \"Loves\",\n",
    "    \"Unspoken\", \"Words\", \"Hidden\", \"Meanings\", \"Secret\", \"Desires\", \"Dreams\", \"Nightmares\", \"Hopes\", \"Fears\", \"Joys\", \"Sorrows\",\n",
    "    \"Triumphs\", \"Failures\", \"Beginnings\", \"Endings\", \"Life\", \"Death\", \"Creation\", \"Destruction\", \"Order\", \"Chaos\", \"Light\", \"Shadow\",\n",
    "    \"Good\", \"Evil\", \"Love\", \"Hate\", \"Peace\", \"War\", \"Freedom\", \"Imprisonment\", \"Justice\", \"Injustice\", \"Truth\", \"Lies\", \"Faith\",\n",
    "    \"Doubt\", \"Certainty\", \"Uncertainty\", \"Change\", \"Growth\", \"Decay\", \"Renewal\", \"Progress\", \"Regression\", \"Evolution\", \"Transformation\",\n",
    "    \"Harmony\", \"Dissonance\", \"Balance\", \"Imbalance\", \"Symmetry\", \"Asymmetry\", \"Repetition\", \"Variation\"\n",
    "    ]"
   ]
  },
  {
   "cell_type": "code",
   "execution_count": 6,
   "metadata": {},
   "outputs": [],
   "source": [
    "# script to generate 5k random music title, in order to generate synthetic midi output for student model training\n",
    "def random_generate_music_title(elem_array):\n",
    "    # random and max length for music title\n",
    "    random_text_len = random.randint(1, 3)\n",
    "    text = \"\"\n",
    "    for i in range(random_text_len):\n",
    "        # random music title generation\n",
    "        random_text_elem = random.choice(elem_array)\n",
    "        text += ((random_text_elem + \" \") if random_text_len - i > 1 else random_text_elem)\n",
    "    return text\n",
    "\n",
    "# saving files parameters (obs: i am saving into my hdd, due the lack memory space of my notebook)\n",
    "music_quantity = 5000\n",
    "hdd_directory_path = r\"D:\\notebook\\singer-doge\\lyrics2music-dataset\"\n",
    "music_titles_path = os.path.join(hdd_directory_path, \"music_title.txt\")\n",
    "teacher_midis_path = os.path.join(hdd_directory_path, \"midi_teacher_outputs.pth\")\n",
    "if not os.path.exists(hdd_directory_path):\n",
    "    os.makedirs(hdd_directory_path)\n",
    "\n",
    "# saving the music titles into a file\n",
    "with open(music_titles_path, \"w\", encoding=\"utf-8\") as file:\n",
    "    for i in range(music_quantity):\n",
    "        text = random_generate_music_title(themes_word_elements)\n",
    "        file.write(text)\n",
    "        file.write(\"\\n\")"
   ]
  },
  {
   "cell_type": "code",
   "execution_count": 12,
   "metadata": {},
   "outputs": [
    {
     "name": "stderr",
     "output_type": "stream",
     "text": [
      "c:\\Users\\julio\\anaconda3\\envs\\lyrics2music\\lib\\site-packages\\torch\\nn\\utils\\weight_norm.py:30: UserWarning: torch.nn.utils.weight_norm is deprecated in favor of torch.nn.utils.parametrizations.weight_norm.\n",
      "  warnings.warn(\"torch.nn.utils.weight_norm is deprecated in favor of torch.nn.utils.parametrizations.weight_norm.\")\n"
     ]
    }
   ],
   "source": [
    "# activating the teacher model from musicgen\n",
    "teacher_model = MusicGen.get_pretrained(\"facebook/musicgen-small\")\n",
    "#teacher_model = teacher_model.to(device)\n",
    "\n",
    "# input of music titles\n",
    "music_titles = []\n",
    "# output of teacher midis\n",
    "teacher_midis = []"
   ]
  },
  {
   "cell_type": "code",
   "execution_count": null,
   "metadata": {},
   "outputs": [],
   "source": [
    "# open saved music titles files\n",
    "with open(music_titles_path, \"r\", encoding=\"utf-8\") as file:\n",
    "    for i, line in enumerate(file, start=1):\n",
    "        # each music title\n",
    "        music_title = line.strip()\n",
    "        music_titles.append(music_title)\n",
    "        # each midi tokens\n",
    "        midi_tokens = teacher_model.generate([music_title], progress=True)\n",
    "        midi_tokens_cpu = [token.cpu() for token in midi_tokens]\n",
    "        teacher_midis.append(midi_tokens_cpu)\n",
    "        \n",
    "try:\n",
    "    # save the output in a tensor shape for futher training usage\n",
    "    torch.save({\"title\": music_titles, \"midi\": teacher_midis}, teacher_midis_path)\n",
    "except Exception as e:\n",
    "    print(f\"Erro by saving teacher midis: \", e)"
   ]
  },
  {
   "cell_type": "markdown",
   "metadata": {},
   "source": [
    "# Model Training"
   ]
  },
  {
   "cell_type": "code",
   "execution_count": null,
   "metadata": {},
   "outputs": [],
   "source": [
    "# initialize the model\n",
    "model = Lyrics2MusicModel(input_size=128, hidden_size=512, output_size=128, num_heads=8, num_layers=6).to(device)\n",
    "criterion = nn.CrossEntropyLoss()\n",
    "optimizer = optim.Adam(model.parameters(), lr=0.001)"
   ]
  },
  {
   "cell_type": "code",
   "execution_count": null,
   "metadata": {},
   "outputs": [],
   "source": [
    "epochs = 50\n",
    "\n",
    "# training epoch\n",
    "for epoch in range(epochs):\n",
    "    for music_input, text_input, target_output in dataloader:\n",
    "        optimizer.zero_grad()\n",
    "        output = model(music_input, text_input)\n",
    "        loss = criterion(output, target_output)\n",
    "        loss.backward()\n",
    "        optimizer.step()\n",
    "    if (epoch + 1) % 5 == 0:\n",
    "        print(f\"epoch {epoch}, loss: {loss:.4f}\")"
   ]
  },
  {
   "cell_type": "markdown",
   "metadata": {},
   "source": [
    "# Model Evaluation"
   ]
  }
 ],
 "metadata": {
  "kernelspec": {
   "display_name": "lyrics2music",
   "language": "python",
   "name": "python3"
  },
  "language_info": {
   "codemirror_mode": {
    "name": "ipython",
    "version": 3
   },
   "file_extension": ".py",
   "mimetype": "text/x-python",
   "name": "python",
   "nbconvert_exporter": "python",
   "pygments_lexer": "ipython3",
   "version": "3.9.21"
  }
 },
 "nbformat": 4,
 "nbformat_minor": 2
}
